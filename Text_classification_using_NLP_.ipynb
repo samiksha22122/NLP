{
  "nbformat": 4,
  "nbformat_minor": 0,
  "metadata": {
    "colab": {
      "provenance": []
    },
    "kernelspec": {
      "name": "python3",
      "display_name": "Python 3"
    },
    "language_info": {
      "name": "python"
    }
  },
  "cells": [
    {
      "cell_type": "code",
      "execution_count": 13,
      "metadata": {
        "colab": {
          "base_uri": "https://localhost:8080/"
        },
        "id": "fONd7dz33sW6",
        "outputId": "decd672f-4ec4-4f94-e992-a821ea67a009"
      },
      "outputs": [
        {
          "output_type": "stream",
          "name": "stderr",
          "text": [
            "[nltk_data] Downloading package movie_reviews to /root/nltk_data...\n",
            "[nltk_data]   Package movie_reviews is already up-to-date!\n",
            "[nltk_data] Downloading package stopwords to /root/nltk_data...\n",
            "[nltk_data]   Package stopwords is already up-to-date!\n",
            "[nltk_data] Downloading package punkt to /root/nltk_data...\n",
            "[nltk_data]   Package punkt is already up-to-date!\n",
            "[nltk_data] Downloading package wordnet to /root/nltk_data...\n",
            "[nltk_data]   Package wordnet is already up-to-date!\n",
            "[nltk_data] Downloading package omw-1.4 to /root/nltk_data...\n"
          ]
        },
        {
          "output_type": "execute_result",
          "data": {
            "text/plain": [
              "True"
            ]
          },
          "metadata": {},
          "execution_count": 13
        }
      ],
      "source": [
        "import nltk\n",
        "from nltk.corpus import movie_reviews\n",
        "from nltk.tokenize import word_tokenize\n",
        "from nltk.stem import WordNetLemmatizer\n",
        "from sklearn.feature_extraction.text import TfidfVectorizer\n",
        "from sklearn.naive_bayes import MultinomialNB\n",
        "from sklearn.metrics import accuracy_score\n",
        "nltk.download('movie_reviews')\n",
        "nltk.download('stopwords')\n",
        "nltk.download('punkt')\n",
        "nltk.download('wordnet')\n",
        "nltk.download('omw-1.4')"
      ]
    },
    {
      "cell_type": "code",
      "source": [
        "reviews = []\n",
        "for fileid in movie_reviews.fileids():\n",
        "    category = fileid.split('/')[0]\n",
        "    review = movie_reviews.raw(fileid)\n",
        "    reviews.append((review, category))\n",
        "\n",
        "    \n",
        "\n",
        "# Preprocessing\n",
        "lemmatizer = WordNetLemmatizer()\n",
        "stop_words = set(nltk.corpus.stopwords.words('english'))\n",
        "\n",
        "def preprocess(text):\n",
        "    words = word_tokenize(text.lower())\n",
        "    words = [lemmatizer.lemmatize(word) for word in words if word.isalpha()]\n",
        "    words = [word for word in words if word not in stop_words]\n",
        "    return ' '.join(words)\n",
        "\n",
        "preprocessed_reviews = [(preprocess(review), category) for review, category in reviews]"
      ],
      "metadata": {
        "id": "zb307lkh38G2"
      },
      "execution_count": 14,
      "outputs": []
    },
    {
      "cell_type": "code",
      "source": [
        "import random\n",
        "\n",
        "random.shuffle(preprocessed_reviews)\n",
        "\n",
        "train_size = int(0.8 * len(preprocessed_reviews))\n",
        "train_reviews = preprocessed_reviews[:train_size]\n",
        "test_reviews = preprocessed_reviews[train_size:]"
      ],
      "metadata": {
        "id": "O5zwd3K439Lv"
      },
      "execution_count": 15,
      "outputs": []
    },
    {
      "cell_type": "code",
      "source": [
        "vectorizer = TfidfVectorizer()\n",
        "X_train = vectorizer.fit_transform([review for review, category in train_reviews])\n",
        "y_train = [category for review, category in train_reviews]\n",
        "X_test = vectorizer.transform([review for review, category in test_reviews])\n",
        "y_test = [category for review, category in test_reviews]\n"
      ],
      "metadata": {
        "id": "76FTjE4F4AEe"
      },
      "execution_count": 16,
      "outputs": []
    },
    {
      "cell_type": "code",
      "source": [
        "clf = MultinomialNB()\n",
        "clf.fit(X_train, y_train)\n",
        "\n",
        "y_pred = clf.predict(X_test)\n",
        "accuracy = accuracy_score(y_test, y_pred)\n",
        "print(f'Accuracy: {accuracy:.2f}')\n"
      ],
      "metadata": {
        "colab": {
          "base_uri": "https://localhost:8080/"
        },
        "id": "JpMS8MPr4CUa",
        "outputId": "e9018881-ddf2-4c9d-a95d-7aa194f00e51"
      },
      "execution_count": 17,
      "outputs": [
        {
          "output_type": "stream",
          "name": "stdout",
          "text": [
            "Accuracy: 0.80\n"
          ]
        }
      ]
    },
    {
      "cell_type": "code",
      "source": [],
      "metadata": {
        "id": "pDwylm5r4Jba"
      },
      "execution_count": null,
      "outputs": []
    }
  ]
}